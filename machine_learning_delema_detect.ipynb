{
  "nbformat": 4,
  "nbformat_minor": 0,
  "metadata": {
    "colab": {
      "name": "machine_learning.ipynb",
      "provenance": [],
      "mount_file_id": "1NSs6iY1oOlJ-S8nsrFv0Bcy2ta4FctQo",
      "authorship_tag": "ABX9TyPvRKCILx3vX4Wcy2F9KCLx",
      "include_colab_link": true
    },
    "kernelspec": {
      "name": "python3",
      "display_name": "Python 3"
    }
  },
  "cells": [
    {
      "cell_type": "markdown",
      "metadata": {
        "id": "view-in-github",
        "colab_type": "text"
      },
      "source": [
        "<a href=\"https://colab.research.google.com/github/Anantha-Rao12/IISER-Pune-India/blob/master/machine_learning_delema_detect.ipynb\" target=\"_parent\"><img src=\"https://colab.research.google.com/assets/colab-badge.svg\" alt=\"Open In Colab\"/></a>"
      ]
    },
    {
      "cell_type": "markdown",
      "metadata": {
        "id": "c-z9SfXn7Kkg"
      },
      "source": [
        "# Step 1 : We download the dataset from the server and store it in two different directores"
      ]
    },
    {
      "cell_type": "code",
      "metadata": {
        "id": "ZYVpGUqEcgn4",
        "outputId": "52b96a99-c4df-4203-95be-683022365447",
        "colab": {
          "base_uri": "https://localhost:8080/",
          "height": 208
        }
      },
      "source": [
        "!wget https://ceb.nlm.nih.gov/proj/malaria/cell_images.zip\n"
      ],
      "execution_count": null,
      "outputs": [
        {
          "output_type": "stream",
          "text": [
            "--2020-10-23 10:46:20--  https://ceb.nlm.nih.gov/proj/malaria/cell_images.zip\n",
            "Resolving ceb.nlm.nih.gov (ceb.nlm.nih.gov)... 130.14.52.15, 2607:f220:41e:7052::15\n",
            "Connecting to ceb.nlm.nih.gov (ceb.nlm.nih.gov)|130.14.52.15|:443... connected.\n",
            "HTTP request sent, awaiting response... 200 OK\n",
            "Length: 353452851 (337M) [application/zip]\n",
            "Saving to: ‘cell_images.zip.1’\n",
            "\n",
            "cell_images.zip.1   100%[===================>] 337.08M  33.6MB/s    in 11s     \n",
            "\n",
            "2020-10-23 10:46:31 (31.5 MB/s) - ‘cell_images.zip.1’ saved [353452851/353452851]\n",
            "\n"
          ],
          "name": "stdout"
        }
      ]
    },
    {
      "cell_type": "code",
      "metadata": {
        "id": "B-FW4hBWemXZ",
        "outputId": "986f2968-2380-45b4-ed59-678557bef3af",
        "colab": {
          "base_uri": "https://localhost:8080/",
          "height": 52
        }
      },
      "source": [
        "!unzip cell_images.zip"
      ],
      "execution_count": null,
      "outputs": [
        {
          "output_type": "stream",
          "text": [
            "Archive:  cell_images.zip\n",
            "replace cell_images/Parasitized/C100P61ThinF_IMG_20150918_144104_cell_162.png? [y]es, [n]o, [A]ll, [N]one, [r]ename: "
          ],
          "name": "stdout"
        }
      ]
    },
    {
      "cell_type": "code",
      "metadata": {
        "id": "IGlTRKM7h4QG"
      },
      "source": [
        "# Keras Utils for image processing\n",
        "from tensorflow.keras.preprocessing.image import ImageDataGenerator\n",
        "\n",
        "# Sklearn Utils for Machine Learning Models \n",
        "from sklearn.model_selection import train_test_split\n",
        "from sklearn.linear_model import LogisticRegression\n",
        "from sklearn.svm import SVC\n",
        "from sklearn.ensemble import RandomForestClassifier\n",
        "from sklearn.naive_bayes import GaussianNB\n",
        "from sklearn.neighbors import KNeighborsClassifier as KNN \n",
        "\n",
        "\n",
        "# Metrics to access Performance\n",
        "from sklearn.metrics import roc_curve, roc_auc_score, confusion_matrix, classification_report \n",
        "\n",
        "\n",
        "# Numpy for matrix algebra\n",
        "import numpy as np\n",
        "\n",
        "# Matplotlib and Seaborn for plotting\n",
        "import matplotlib.pyplot as plt\n",
        "import seaborn as sns ; sns.set()\n",
        "\n",
        "\n",
        "\n",
        "from sklearn.model_selection import RandomizedSearchCV\n",
        "from scipy.stats import randint"
      ],
      "execution_count": null,
      "outputs": []
    },
    {
      "cell_type": "markdown",
      "metadata": {
        "id": "NgoTV2458UtR"
      },
      "source": [
        "# Step 2 : Preprocessing the Dataset\n",
        "\n",
        "- Here, we the ImageDataGenerator functionality from keras to create a tensore-dataset of all the images along with predictions. \n",
        "- Since the 'Parasitized' Directory occurs first, it is alloted the label '0' while Uninfected images are allotted the label'1'"
      ]
    },
    {
      "cell_type": "code",
      "metadata": {
        "id": "UbuvXoJNh7y2"
      },
      "source": [
        "data_directory = '/content/cell_images'\n",
        "image_width = 32\n",
        "image_height = 32\n",
        "m = 27558\n",
        "datagen = ImageDataGenerator(rescale=1/255)  #rescale all pixel values between [-1,1]"
      ],
      "execution_count": null,
      "outputs": []
    },
    {
      "cell_type": "code",
      "metadata": {
        "id": "AUQNNm1Fh9aO",
        "outputId": "e5ed62e7-2e98-4c7f-fd33-5fef8d97edf1",
        "colab": {
          "base_uri": "https://localhost:8080/",
          "height": 34
        }
      },
      "source": [
        "data_generator = datagen.flow_from_directory(directory=data_directory, target_size=(image_width,image_height),\n",
        "                                                   class_mode = 'binary', batch_size = m, shuffle=True, subset='training'\n",
        "                                                   )\n"
      ],
      "execution_count": null,
      "outputs": [
        {
          "output_type": "stream",
          "text": [
            "Found 27558 images belonging to 2 classes.\n"
          ],
          "name": "stdout"
        }
      ]
    },
    {
      "cell_type": "markdown",
      "metadata": {
        "id": "DplxpUAH9FWd"
      },
      "source": [
        "Now we obtain the Image Tesnor from the Datagenerator object and extract the Tensor containing data as 'X'. We reshape it to suitable for training on Machine learning algorithms. "
      ]
    },
    {
      "cell_type": "code",
      "metadata": {
        "id": "yP6EGW59iABc",
        "outputId": "2e180ea9-f40b-4653-a256-623f2ae6d51e",
        "colab": {
          "base_uri": "https://localhost:8080/",
          "height": 52
        }
      },
      "source": [
        "x_data = data_generator[0][0]\n",
        "print(x_data.shape)  #expect (27558,32,32,3)\n",
        "x_data = x_data.reshape(x_data.shape[0],x_data.shape[1]*x_data.shape[2]*x_data.shape[3])\n",
        "print(x_data.shape)  #expect (27558,3072)"
      ],
      "execution_count": null,
      "outputs": [
        {
          "output_type": "stream",
          "text": [
            "(27558, 32, 32, 3)\n",
            "(27558, 3072)\n"
          ],
          "name": "stdout"
        }
      ]
    },
    {
      "cell_type": "markdown",
      "metadata": {
        "id": "9oZvky0Y9zHy"
      },
      "source": [
        "Similarly we apply a similar transformation for the labels 'Y'"
      ]
    },
    {
      "cell_type": "code",
      "metadata": {
        "id": "xKB0bnVfnwOK",
        "outputId": "398f9ecd-34bd-47d3-dfd1-1865d33be459",
        "colab": {
          "base_uri": "https://localhost:8080/",
          "height": 34
        }
      },
      "source": [
        "y_data = data_generator[0][1]\n",
        "print(y_data.shape)"
      ],
      "execution_count": null,
      "outputs": [
        {
          "output_type": "stream",
          "text": [
            "(27558,)\n"
          ],
          "name": "stdout"
        }
      ]
    },
    {
      "cell_type": "code",
      "metadata": {
        "id": "9jp1BvtFAMZy"
      },
      "source": [
        "# We only use 5000 Images for training and testing ; otherwise the training tends to be too slow \n",
        "x_data = x_data[:5000,:]\n",
        "y_data = y_data[:5000]"
      ],
      "execution_count": null,
      "outputs": []
    },
    {
      "cell_type": "markdown",
      "metadata": {
        "id": "HseRjGyD-e0z"
      },
      "source": [
        "# Step 3 : Training the Model"
      ]
    },
    {
      "cell_type": "code",
      "metadata": {
        "id": "ygkniU4Hn4hc"
      },
      "source": [
        "X_train, X_test, y_train, y_test = train_test_split(x_data, y_data, test_size=0.2, random_state=0)\n"
      ],
      "execution_count": null,
      "outputs": []
    },
    {
      "cell_type": "code",
      "metadata": {
        "id": "0iDzXU3VAFr5",
        "outputId": "0f86b797-d7cc-450a-8a0d-e17beff93721",
        "colab": {
          "base_uri": "https://localhost:8080/",
          "height": 34
        }
      },
      "source": [
        "print(len(X_train),len(X_test))"
      ],
      "execution_count": null,
      "outputs": [
        {
          "output_type": "stream",
          "text": [
            "4000 1000\n"
          ],
          "name": "stdout"
        }
      ]
    },
    {
      "cell_type": "markdown",
      "metadata": {
        "id": "SpjZ1lRT-pjh"
      },
      "source": [
        "## Logistic Regression"
      ]
    },
    {
      "cell_type": "code",
      "metadata": {
        "id": "yWjbe-kkoqbr"
      },
      "source": [
        "logreg = LogisticRegression(random_state=0,max_iter=5000)\n",
        "logreg.fit(X_train, y_train)\n",
        "logreg_probs = logreg.predict_proba(X_test)"
      ],
      "execution_count": null,
      "outputs": []
    },
    {
      "cell_type": "markdown",
      "metadata": {
        "id": "-uWZLeb0_K40"
      },
      "source": [
        "## Random Forest Classifier"
      ]
    },
    {
      "cell_type": "code",
      "metadata": {
        "id": "CvqvPe4trwEj"
      },
      "source": [
        "rf = RandomForestClassifier(n_estimators =500,criterion='entropy', random_state=50)\n",
        "rf.fit(X_train, y_train)\n",
        "rf_probs = rf.predict_proba(X_test)"
      ],
      "execution_count": null,
      "outputs": []
    },
    {
      "cell_type": "markdown",
      "metadata": {
        "id": "HkrW4BdZ_x6U"
      },
      "source": [
        "## Support Vector Machine"
      ]
    },
    {
      "cell_type": "markdown",
      "metadata": {
        "id": "srQzdNwaBGwf"
      },
      "source": [
        "## K- Nearest Neighbour Classifier"
      ]
    },
    {
      "cell_type": "code",
      "metadata": {
        "id": "j58MWINY2XVO"
      },
      "source": [
        "knn = KNN(n_neighbors = 2) \n",
        "knn.fit(X_train, y_train)\n",
        "knn_probs = knn.predict_proba(X_test)"
      ],
      "execution_count": null,
      "outputs": []
    },
    {
      "cell_type": "markdown",
      "metadata": {
        "id": "AUYPkRHXBWh-"
      },
      "source": [
        "## Naive Bayes Classification\n"
      ]
    },
    {
      "cell_type": "code",
      "metadata": {
        "id": "pVFvCRHXBaC_"
      },
      "source": [
        "nb = GaussianNB()\n",
        "nb.fit(X_train,y_train)\n",
        "nb_probs = nb.predict_proba(X_test)"
      ],
      "execution_count": null,
      "outputs": []
    },
    {
      "cell_type": "markdown",
      "metadata": {
        "id": "8GVyJye5Bn6m"
      },
      "source": [
        "# Step 4 : Computing AUC and ROC values"
      ]
    },
    {
      "cell_type": "code",
      "metadata": {
        "id": "pvGsXujZBiED"
      },
      "source": [
        "# Storing the probabilities for positive outcome \n",
        "\n",
        "prob_vals = [logreg_probs,rf_probs, knn_probs,nb_probs]\n",
        "r_probs = [0 for _ in range(len(y_test))]  # worst case probability\n",
        "\n",
        "positive_prob_vals = [i[:,1] for i in prob_vals]\n",
        "\n",
        "p_logreg_probs,p_rf_probs, p_knn_probs,p_nb_probs = positive_prob_vals"
      ],
      "execution_count": null,
      "outputs": []
    },
    {
      "cell_type": "code",
      "metadata": {
        "id": "MXslOPXBBiUB"
      },
      "source": [
        "## Computing ROC and AUC values\n",
        "\n",
        "r_auc = roc_auc_score(y_test,r_probs)\n",
        "log_reg_auc = roc_auc_score(y_test,p_logreg_probs)\n",
        "rf_auc = roc_auc_score(y_test,p_rf_probs)\n",
        "knn_auc = roc_auc_score(y_test,p_knn_probs)\n",
        "nb_auc = roc_auc_score(y_test,p_nb_probs)"
      ],
      "execution_count": null,
      "outputs": []
    },
    {
      "cell_type": "code",
      "metadata": {
        "id": "_8vuY8b0BiRT",
        "outputId": "287ae333-4c99-49c2-cac5-4ce85a8ac0e3",
        "colab": {
          "base_uri": "https://localhost:8080/",
          "height": 104
        }
      },
      "source": [
        "## Print AUROC scores\n",
        "\n",
        "print(\"Random (chance) Prediction : AUROC = %.3f\" %(r_auc))\n",
        "print('Logistic Regression : AUROC = %.3f' %(log_reg_auc))\n",
        "print('Random Forest : AUROC = %.3f' %(rf_auc))\n",
        "print('KNN : AUROC = %.3f' %(knn_auc))\n",
        "print('Naive Bayes : AUROC = %.3f' %(nb_auc))\n"
      ],
      "execution_count": null,
      "outputs": [
        {
          "output_type": "stream",
          "text": [
            "Random (chance) Prediction : AUROC = 0.500\n",
            "Logistic Regression : AUROC = 0.730\n",
            "Random Forest : AUROC = 0.850\n",
            "KNN : AUROC = 0.622\n",
            "Naive Bayes : AUROC = 0.622\n"
          ],
          "name": "stdout"
        }
      ]
    },
    {
      "cell_type": "markdown",
      "metadata": {
        "id": "2jCwKssFB3pq"
      },
      "source": [
        "## ROC curve\n",
        "\n",
        "The **Receiver Operating Characteristic** (ROC) curve summarises the prediction performance of a classification model at all classification thresholds. Particularly, the ROC curve plots the **False Positive Rate** (FPR) on the X-axis and the **True Positive Rate** (TPR) on the Y-axis. \n",
        "\n",
        "TPR (Sensitivity) = TP / (TP + FN)\n",
        "\n",
        "FPR (1 - Specificity) = FP/ (TN + FP)\n"
      ]
    },
    {
      "cell_type": "code",
      "metadata": {
        "id": "naVwUdqfBiNt"
      },
      "source": [
        "## Calculate ROC curve\n",
        "\n",
        "r_fpr, r_tpr , _ = roc_curve(y_test, r_probs)\n",
        "logreg_fpr,logreg_tpr, _ = roc_curve(y_test, p_logreg_probs)\n",
        "rf_fpr,rf_tpr, _ = roc_curve(y_test, p_rf_probs)\n",
        "knn_fpr,knn_tpr, _ = roc_curve(y_test, p_knn_probs)\n",
        "nb_fpr, nb_tpr, _ = roc_curve(y_test, p_nb_probs) "
      ],
      "execution_count": null,
      "outputs": []
    },
    {
      "cell_type": "code",
      "metadata": {
        "id": "ctQMvCOcBiK9",
        "outputId": "5320165c-663e-489d-ca43-94c0fed237b1",
        "colab": {
          "base_uri": "https://localhost:8080/",
          "height": 460
        }
      },
      "source": [
        "\n",
        "### Plot the ROC curves\n",
        "\n",
        "fig = plt.figure(num=1,dpi=90,figsize=(6,5))\n",
        "axes = fig.add_axes([0.1,0.1,0.8,0.8])\n",
        "\n",
        "axes.plot(r_fpr,r_tpr, ls = '--', label='Random prediction (AUROC = %0.2f)' %(r_auc))\n",
        "\n",
        "axes.plot(rf_fpr,rf_tpr, marker = ',', label='Random Forest (AUROC = %0.2f)' %(rf_auc))\n",
        "axes.plot(logreg_fpr,logreg_tpr, marker = ',', label='Logistic Regression (AUROC = %0.2f)' %(log_reg_auc))\n",
        "axes.plot(knn_fpr,knn_tpr, marker = ',', label='KNN (AUROC = %0.2f)' %(knn_auc))\n",
        "axes.plot(nb_fpr,nb_tpr, marker = '.', label='Naive Bayes (AUROC = %0.2f)' %(nb_auc))\n",
        "\n",
        "axes.set_xlabel('False Positive Rate')\n",
        "axes.set_ylabel('True Positive Rate')\n",
        "axes.set_title('Receiver Operating Characteristic (ROC) curve') \n",
        "\n",
        "axes.legend(fancybox=True, framealpha=1, shadow=True, borderpad=1)\n",
        "\n",
        "plt.show()\n",
        "\n"
      ],
      "execution_count": 58,
      "outputs": [
        {
          "output_type": "display_data",
          "data": {
            "image/png": "[encoded data removed]",
            "text/plain": [
              "<Figure size 540x450 with 1 Axes>"
            ]
          },
          "metadata": {
            "tags": []
          }
        }
      ]
    },
    {
      "cell_type": "markdown",
      "metadata": {
        "id": "51C4l0yhP90Z"
      },
      "source": [
        "# Classification Report\n",
        "\n",
        "- Can be written to external text files\n",
        "- Clearly Random Forest achieves the best classification task"
      ]
    },
    {
      "cell_type": "code",
      "metadata": {
        "id": "3IBs1vMsMxr6"
      },
      "source": [
        "report_lr = classification_report(y_test,logreg.predict(X_test))\n",
        "report_rf = classification_report(y_test,rf.predict(X_test))\n",
        "report_nb = classification_report(y_test,nb.predict(X_test))\n",
        "report_knn = classification_report(y_test,knn.predict(X_test))"
      ],
      "execution_count": 62,
      "outputs": []
    },
    {
      "cell_type": "code",
      "metadata": {
        "id": "1cWLiWlxRGan"
      },
      "source": [
        ""
      ],
      "execution_count": null,
      "outputs": []
    }
  ]
}